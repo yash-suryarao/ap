{
 "cells": [
  {
   "cell_type": "code",
   "execution_count": 1,
   "id": "21e98032-a462-4355-873b-bac7514e7497",
   "metadata": {},
   "outputs": [
    {
     "name": "stdout",
     "output_type": "stream",
     "text": [
      "Hello\n",
      "World\n",
      "This  is a \n",
      "multi \n",
      "line string \n",
      "<class 'str'>\n"
     ]
    }
   ],
   "source": [
    "\n",
    "# Creating Strings\n",
    "str1 = 'Hello'\n",
    "str2 = \"World\"\n",
    "str3 = '''This  is a \n",
    "multi \n",
    "line string '''\n",
    "\n",
    "\n",
    "print(str1)\n",
    "print(str2)\n",
    "print(str3)\n",
    "print(type(str1))"
   ]
  },
  {
   "cell_type": "code",
   "execution_count": 2,
   "id": "3ae021b3-7373-42f3-aa23-a43588044afe",
   "metadata": {},
   "outputs": [
    {
     "name": "stdout",
     "output_type": "stream",
     "text": [
      "H\n",
      "e\n",
      "l\n",
      "l\n",
      "o\n"
     ]
    }
   ],
   "source": [
    "# Printing string using for loops\n",
    "str1=\"Hello\"\n",
    "for i in str1:\n",
    "    print(i)"
   ]
  },
  {
   "cell_type": "code",
   "execution_count": 3,
   "id": "437b8092-5b87-41f5-a234-e4d27fb9cb95",
   "metadata": {},
   "outputs": [
    {
     "name": "stdout",
     "output_type": "stream",
     "text": [
      "H\n",
      "e\n",
      "l\n",
      "l\n",
      "o\n",
      "o\n",
      "H e l l o \n",
      " 5\n"
     ]
    }
   ],
   "source": [
    "# Accessing the Characters\n",
    "\n",
    "str1 = \"Hello\" \n",
    "print(str1[0])\n",
    "print(str1[1])\n",
    "print(str1[2])\n",
    "print(str1[3])\n",
    "print(str1[4])\n",
    "print(str1[-1])\n",
    "\n",
    "\n",
    "\n",
    "for i in str1:\n",
    "    print(i, end=\" \")\n",
    "\n",
    "x=  len(str1)\n",
    "print('\\n',x)"
   ]
  },
  {
   "cell_type": "code",
   "execution_count": 4,
   "id": "715a39d9-ee34-424e-9949-661391f66912",
   "metadata": {},
   "outputs": [
    {
     "name": "stdout",
     "output_type": "stream",
     "text": [
      "Hello\n",
      " World\n",
      "Hello\n"
     ]
    }
   ],
   "source": [
    "# Slicing Strings \n",
    "# You can extract a substring using Slicing\n",
    "\n",
    "str1= \"Hello , World\"\n",
    "print(str1[0:5])\n",
    "print(str1[7:])\n",
    "print(str1[:5])"
   ]
  },
  {
   "cell_type": "code",
   "execution_count": 5,
   "id": "b4f2153e-93a7-45fb-b59a-9b0ba5d1dfa6",
   "metadata": {},
   "outputs": [
    {
     "name": "stdout",
     "output_type": "stream",
     "text": [
      "Palindrome\n"
     ]
    }
   ],
   "source": [
    "# Check string is palindrome or not\n",
    "\n",
    "str1 = \"MaaM\"\n",
    "str2=str1[::-1]\n",
    "if str1==str2:\n",
    "    print(\"Palindrome\")\n",
    "else:\n",
    "    print(\"Not a Palindrome\")"
   ]
  },
  {
   "cell_type": "code",
   "execution_count": 6,
   "id": "f89847a6-783d-4e99-8078-d8da89d4ad87",
   "metadata": {},
   "outputs": [
    {
     "name": "stdout",
     "output_type": "stream",
     "text": [
      "olleH\n"
     ]
    }
   ],
   "source": [
    "# Write  a program to reverse a string\n",
    "s =\"Hello\"\n",
    "reversed_s = s[::-1]\n",
    "print(reversed_s)\n"
   ]
  },
  {
   "cell_type": "code",
   "execution_count": 7,
   "id": "089e9bb5-9924-46d7-bb02-f0f478c1dd8f",
   "metadata": {},
   "outputs": [
    {
     "name": "stdout",
     "output_type": "stream",
     "text": [
      "YES\n"
     ]
    }
   ],
   "source": [
    "# Function to check string is  Palindrome or Not\n",
    "\n",
    "\n",
    "def isPalindrome(str):\n",
    "\n",
    "    for i in range(0, int(len(str)/2)):\n",
    "        if str[i] !=str[len(str)-i-1]:\n",
    "            return False\n",
    "        return True\n",
    "\n",
    "# MAIN FUNCTION\n",
    "\n",
    "str = \"MalayalaM\"\n",
    "\n",
    "ans = isPalindrome(str)\n",
    "if (ans):\n",
    "    print(\"YES\")\n",
    "else:\n",
    "    print(\"NO\")"
   ]
  },
  {
   "cell_type": "code",
   "execution_count": 8,
   "id": "e45bc68d-abf4-40bc-b83e-dc454f0dde97",
   "metadata": {},
   "outputs": [
    {
     "name": "stdout",
     "output_type": "stream",
     "text": [
      "Hello MCA Students\n",
      "\n",
      " HelloHelloHelloHelloHello\n",
      "\n",
      " MCA StudentsMCA StudentsMCA StudentsMCA Students\n"
     ]
    }
   ],
   "source": [
    "# 4. String  Concatenation and repetition\n",
    "#  Combine  Strings using + and repeat string using * \n",
    "# String  concatenation \n",
    "str1='Hello'\n",
    "str2=\"MCA Students\"\n",
    "\n",
    "concatenation = str1 +\" \"+ str2\n",
    "print(concatenation)\n",
    "\n",
    "\n",
    "repeatation = str1 *5\n",
    "repeatation2 = str2 * 4\n",
    "\n",
    "print(\"\\n\",  repeatation  )\n",
    "print(\"\\n\",repeatation2)\n"
   ]
  },
  {
   "cell_type": "code",
   "execution_count": 9,
   "id": "50fdd2a9-d6dd-4ffd-a231-e54ea800f95c",
   "metadata": {},
   "outputs": [
    {
     "name": "stdout",
     "output_type": "stream",
     "text": [
      "HELLO WORLD\n",
      "hello world\n",
      "Hello World\n",
      "Hello world\n"
     ]
    }
   ],
   "source": [
    "# Changing Case \n",
    "str1 = \"hello world\"\n",
    "\n",
    "print(str1.upper())\n",
    "print(str1.lower())\n",
    "print(str1.title())\n",
    "print(str1.capitalize())"
   ]
  },
  {
   "cell_type": "code",
   "execution_count": 10,
   "id": "4b3671f4-3c19-4384-a8e4-e2efa5018c21",
   "metadata": {},
   "outputs": [
    {
     "name": "stdout",
     "output_type": "stream",
     "text": [
      "Hello, World!\n",
      "Hello, World!  \n",
      "  Hello, World!\n"
     ]
    }
   ],
   "source": [
    "# 6.Removing whitespace from the string\n",
    "\n",
    "# Using strip() ,lstrip()\n",
    "\n",
    "str1 = \"  Hello, World!  \"\n",
    "print(str1.strip())\n",
    "print(str1.lstrip())\n",
    "print(str1.rstrip())"
   ]
  },
  {
   "cell_type": "code",
   "execution_count": 11,
   "id": "c4a232e3-2a9d-4163-bccb-e7d4df0b5af6",
   "metadata": {},
   "outputs": [
    {
     "name": "stdout",
     "output_type": "stream",
     "text": [
      "['Hello', 'World']\n",
      "Hello World\n"
     ]
    }
   ],
   "source": [
    "# 7. Splitting and Joining string\n",
    "\n",
    "str1 = \"Hello, World\"\n",
    "word = str1.split(\", \")\n",
    "print(word)\n",
    "\n",
    "join_str = \" \".join(word)\n",
    "print(join_str)"
   ]
  },
  {
   "cell_type": "code",
   "execution_count": 12,
   "id": "dd2628a7-bdae-403b-b6fd-bea718adfbd2",
   "metadata": {},
   "outputs": [
    {
     "name": "stdin",
     "output_type": "stream",
     "text": [
      "Enter the number:  4\n"
     ]
    },
    {
     "name": "stdout",
     "output_type": "stream",
     "text": [
      "4 x 1 4\n",
      "4 x 2 8\n",
      "4 x 3 12\n",
      "4 x 4 16\n",
      "4 x 5 20\n",
      "4 x 6 24\n",
      "4 x 7 28\n",
      "4 x 8 32\n",
      "4 x 9 36\n",
      "4 x 10 40\n"
     ]
    }
   ],
   "source": [
    "# To print multiplication table of any no, using function\n",
    "\n",
    "def multi_table(num):\n",
    "    for i in range(1, 11):\n",
    "        print(num, \"x\", i, num*i)\n",
    "num = int(input(\"Enter the number: \"))\n",
    "multi_table(num)"
   ]
  }
 ],
 "metadata": {
  "kernelspec": {
   "display_name": "Python 3 (ipykernel)",
   "language": "python",
   "name": "python3"
  },
  "language_info": {
   "codemirror_mode": {
    "name": "ipython",
    "version": 3
   },
   "file_extension": ".py",
   "mimetype": "text/x-python",
   "name": "python",
   "nbconvert_exporter": "python",
   "pygments_lexer": "ipython3",
   "version": "3.11.1"
  }
 },
 "nbformat": 4,
 "nbformat_minor": 5
}
