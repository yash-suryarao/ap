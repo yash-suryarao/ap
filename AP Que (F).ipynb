{
 "cells": [
  {
   "cell_type": "code",
   "execution_count": 1,
   "id": "04decdc2-7ecf-4ece-82e4-dfb823166df2",
   "metadata": {},
   "outputs": [
    {
     "name": "stdout",
     "output_type": "stream",
     "text": [
      "[0, 1, 1, 2, 3, 5, 8, 13, 21, 34, 55, 89, 144, 233, 377, 610, 987, 1597, 2584, 4181]\n"
     ]
    }
   ],
   "source": [
    "# To print fibonacci series using function\n",
    "\n",
    "def fibo(n):\n",
    "    if n <= 0:\n",
    "        return[]\n",
    "    elif n == 1:\n",
    "        return[0]\n",
    "    else:\n",
    "        list_fibo = [0, 1]\n",
    "        while len(list_fibo) < n:\n",
    "            next_fibo = list_fibo[-1] + list_fibo[-2]\n",
    "            list_fibo.append(next_fibo)\n",
    "        return list_fibo\n",
    "print(fibo(20))"
   ]
  },
  {
   "cell_type": "code",
   "execution_count": 1,
   "id": "2a7b38e3-499b-4517-8119-1aae44ffdf38",
   "metadata": {},
   "outputs": [
    {
     "name": "stdin",
     "output_type": "stream",
     "text": [
      "Enter the number:  4\n"
     ]
    },
    {
     "name": "stdout",
     "output_type": "stream",
     "text": [
      "4 x 1 4\n",
      "4 x 2 8\n",
      "4 x 3 12\n",
      "4 x 4 16\n",
      "4 x 5 20\n",
      "4 x 6 24\n",
      "4 x 7 28\n",
      "4 x 8 32\n",
      "4 x 9 36\n",
      "4 x 10 40\n"
     ]
    }
   ],
   "source": [
    "# To print multiplication table of any no, using function\n",
    "\n",
    "def multi_table(num):\n",
    "    for i in range(1, 11):\n",
    "        print(num, \"x\", i, num*i)\n",
    "num = int(input(\"Enter the number: \"))\n",
    "multi_table(num)"
   ]
  },
  {
   "cell_type": "code",
   "execution_count": 2,
   "id": "a8e58d87-cb39-4253-8c5c-725c2803ba51",
   "metadata": {},
   "outputs": [
    {
     "name": "stdin",
     "output_type": "stream",
     "text": [
      "Enter your marks:  45\n"
     ]
    },
    {
     "name": "stdout",
     "output_type": "stream",
     "text": [
      "Grade D\n"
     ]
    }
   ],
   "source": [
    "#2. WAP that accepts marks 0 100 and calculate following based on conditions\n",
    "    #  Marks greater that or equal to 90\n",
    "    #   grade A\n",
    "    #  Marks between 75 and 86\n",
    "    #     grade B\n",
    "    #  Marks between 60 and 74\n",
    "    #     grade C\n",
    "    #  Marks between 45 and 69\n",
    "    #     grade D\n",
    "    #  Marks below 45\n",
    "    #     grade F\n",
    "\n",
    "marks = int(input(\"Enter your marks: \"))\n",
    "\n",
    "if marks >= 90:\n",
    "  print(\"Grade A\")\n",
    "elif marks >= 75 and marks <= 86:\n",
    "  print(\"Grade B\")\n",
    "elif marks >= 60 and marks <= 74:\n",
    "  print(\"Grade C\")\n",
    "elif marks >= 45 and marks <=69:\n",
    "  print(\"Grade D\")\n",
    "else:\n",
    "  print(\"Grade F\")\n"
   ]
  },
  {
   "cell_type": "code",
   "execution_count": null,
   "id": "f560ede2-be3b-44b0-9884-aa7e44fa31b2",
   "metadata": {},
   "outputs": [],
   "source": [
    "#factorial\n",
    "\n",
    "fact = int(input(\"Enter the Fact num :\"))\n",
    "result = 1\n",
    "for i in range(1,fact+1):\n",
    "    result = result*i\n",
    "print(result)"
   ]
  },
  {
   "cell_type": "code",
   "execution_count": 5,
   "id": "aac81e60-8cad-49f0-b7ee-bd2504786d7a",
   "metadata": {},
   "outputs": [
    {
     "name": "stdout",
     "output_type": "stream",
     "text": [
      "Area of circle is: 50.26548245743669\n"
     ]
    }
   ],
   "source": [
    "# Python program to find Area of a circle\n",
    "\n",
    "\n",
    "import math\n",
    "def area(r):\n",
    "    area = math.pi* pow(r,2)\n",
    "    return print('Area of circle is:' ,area)\n",
    "area(4)"
   ]
  },
  {
   "cell_type": "code",
   "execution_count": 7,
   "id": "5fc09360-86f5-4369-9a53-20d40c10774e",
   "metadata": {},
   "outputs": [
    {
     "name": "stdout",
     "output_type": "stream",
     "text": [
      "Perimeter of circle is: 25.132741228718345\n"
     ]
    }
   ],
   "source": [
    "# Perimeter of circle\n",
    "import math\n",
    "def perimeter(r):\n",
    "    perimeter = 2 * math.pi * r\n",
    "    return print('Perimeter of circle is:' ,perimeter)\n",
    "perimeter(4)"
   ]
  },
  {
   "cell_type": "code",
   "execution_count": 8,
   "id": "0ba3bb7c-1ddc-4c28-9319-430a9229f1fc",
   "metadata": {},
   "outputs": [],
   "source": [
    "# WAP to creat an CSV file\n",
    "\n",
    "import csv\n",
    "\n",
    "data = [\n",
    "    {'name': 'Nikhil', 'branch': 'COE', 'year': 2, 'cgpa': 9.0},\n",
    "    {'name': 'Sanchit', 'branch': 'COE', 'year': 2, 'cgpa': 9.1},\n",
    "    {'name': 'Aditya', 'branch': 'IT', 'year': 2, 'cgpa': 9.3},\n",
    "    {'name': 'Sagar', 'branch': 'SE', 'year': 1, 'cgpa': 9.5},\n",
    "    {'name': 'Prateek', 'branch': 'MCE', 'year': 3, 'cgpa': 7.8},\n",
    "    {'name': 'Sahil', 'branch': 'EP', 'year': 2, 'cgpa': 9.1}\n",
    "]\n",
    "\n",
    "with open('university_records.csv', 'w', newline='') as csvfile:\n",
    "    fieldnames = ['name', 'branch', 'year', 'cgpa']\n",
    "    writer = csv.DictWriter(csvfile, fieldnames=fieldnames)\n",
    "    writer.writeheader()\n",
    "    writer.writerows(data)"
   ]
  },
  {
   "cell_type": "code",
   "execution_count": 9,
   "id": "486765a5-118b-4eb3-9fd9-c3ee0f8e2fd9",
   "metadata": {},
   "outputs": [
    {
     "name": "stdout",
     "output_type": "stream",
     "text": [
      "Total number of lines are:  4\n"
     ]
    }
   ],
   "source": [
    "# 2. Write a python program to count no of lines in a file.\n",
    "\n",
    "f=open(\"file1.txt\",'r')\n",
    "count=0\n",
    "for line in f:\n",
    " count+=1\n",
    "print(\"Total number of lines are: \",count)"
   ]
  },
  {
   "cell_type": "code",
   "execution_count": 10,
   "id": "5075db8b-9cf8-4867-811e-0f99ec16c177",
   "metadata": {},
   "outputs": [
    {
     "name": "stdout",
     "output_type": "stream",
     "text": [
      "how\n",
      "\n",
      "are you\n",
      "\n",
      "Good\n"
     ]
    }
   ],
   "source": [
    "# WAP to read last N lines\n",
    "N=3\n",
    "file=open(\"file1.txt\",'r')\n",
    "for line in (file.readlines() [-N:]):\n",
    "    print(line)"
   ]
  },
  {
   "cell_type": "code",
   "execution_count": null,
   "id": "6ffa0680-5424-4658-a17d-fabd9387a77b",
   "metadata": {},
   "outputs": [],
   "source": []
  }
 ],
 "metadata": {
  "kernelspec": {
   "display_name": "Python 3 (ipykernel)",
   "language": "python",
   "name": "python3"
  },
  "language_info": {
   "codemirror_mode": {
    "name": "ipython",
    "version": 3
   },
   "file_extension": ".py",
   "mimetype": "text/x-python",
   "name": "python",
   "nbconvert_exporter": "python",
   "pygments_lexer": "ipython3",
   "version": "3.11.1"
  }
 },
 "nbformat": 4,
 "nbformat_minor": 5
}
