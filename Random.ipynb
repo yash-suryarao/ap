{
 "cells": [
  {
   "cell_type": "code",
   "execution_count": 1,
   "id": "ae04da09-35e0-430a-b3e1-06095ae9419b",
   "metadata": {},
   "outputs": [
    {
     "name": "stdin",
     "output_type": "stream",
     "text": [
      "Enter the Principle Amount : 89\n",
      "Enter the Rate of Interest : 2\n",
      "Enter the Time : 5\n"
     ]
    },
    {
     "name": "stdout",
     "output_type": "stream",
     "text": [
      "Simple Interest is: 8.9\n"
     ]
    }
   ],
   "source": [
    "##### Program for Simple Interest calculations\n",
    "\n",
    "Prin=input(\"Enter the Principle Amount :\")\n",
    "ROI=input(\"Enter the Rate of Interest :\")\n",
    "Time=input(\"Enter the Time :\")\n",
    "SI=(float(Prin)*float(ROI)*float(Time))/100\n",
    "print(\"Simple Interest is: {0}\".format(SI))"
   ]
  },
  {
   "cell_type": "code",
   "execution_count": null,
   "id": "628099ba-fa70-457e-a1a8-047852724483",
   "metadata": {},
   "outputs": [],
   "source": [
    "# Program for Compound Interest calculations\n",
    "\n",
    "Prin=input(\"Enter Principle Amount :\")\n",
    "ROI=input(\"Enter the ROI:\")\n",
    "Time=input(\"Enter the Time:\")\n",
    "CI=float(Prin)*(pow((1+float(ROI)/100),float(Time)))-float(Prin)\n",
    "print(\"Compound Interest is: {0}\".format(CI))"
   ]
  },
  {
   "cell_type": "code",
   "execution_count": null,
   "id": "a5ff046f-4601-446b-ad25-cda15335e29b",
   "metadata": {},
   "outputs": [],
   "source": [
    "#Program for Simple Interest calculation with Functions\n",
    "\n",
    "def SimpleI(P,R,T):\n",
    "    print('Enter the Principle :',P)\n",
    "    print('Enter the Interest Rate :',R)\n",
    "    print('Enter the Time : ',T)\n",
    "    SI=(P*R*T)/100\n",
    "    return SI\n",
    "\n",
    "print(\"Simple Interest:\",SimpleI(5000,10,5))"
   ]
  },
  {
   "cell_type": "code",
   "execution_count": null,
   "id": "c34f18b7-40e6-4e17-a026-a852b802f30d",
   "metadata": {},
   "outputs": [],
   "source": [
    "# Program for Compound Interest calculations with Functions\n",
    "\n",
    "\n",
    "def CompoundI(P,R,T):\n",
    "    print('Enter the Principle Amount :',P)\n",
    "    print('Enter the Rate of Interest :',R)\n",
    "    print('Enter the Time :',T)\n",
    "    CI=float(P)*(pow((1+float(R)/100),float(T)))-float(P)\n",
    "    print(\"Compound Intrest :\",CI)\n",
    "\n",
    "\n",
    "CompoundI(50000,15,6)"
   ]
  },
  {
   "cell_type": "code",
   "execution_count": 2,
   "id": "10af5184-369b-40bc-a309-ba692ad9bce1",
   "metadata": {},
   "outputs": [
    {
     "name": "stdout",
     "output_type": "stream",
     "text": [
      "9847.04  cm\n"
     ]
    }
   ],
   "source": [
    "# Area of circle\n",
    "\n",
    "def AreaofC(R):\n",
    "    Area=R*R*3.14\n",
    "    print(Area,\" cm\")\n",
    "AreaofC(56)"
   ]
  },
  {
   "cell_type": "code",
   "execution_count": null,
   "id": "02cfbbd6-e25b-45ce-bb6c-424a63e124d3",
   "metadata": {},
   "outputs": [],
   "source": [
    "# Program for  nth natural number SUM\n",
    "n=int(input(\"Enter the number :\"))\n",
    "sum=0\n",
    "for i in range(1,n+1):\n",
    "    sum=sum+i\n",
    "print(sum)"
   ]
  },
  {
   "cell_type": "code",
   "execution_count": null,
   "id": "cf2b78ae-2c75-4f54-b0ec-3bb5368a1fc8",
   "metadata": {},
   "outputs": [],
   "source": [
    "#Nth Natural number ( Rev )\n",
    "\n",
    "n=int(input(\"Enter the number: \"))\n",
    "for i in range(n,0,-1):\n",
    "    print(i,end=\" \")"
   ]
  },
  {
   "cell_type": "code",
   "execution_count": null,
   "id": "8a6d7bfa-5d53-43a3-b570-e4fe45cf82c0",
   "metadata": {},
   "outputs": [],
   "source": [
    "#Nth Natural number\n",
    "n=int(input(\"Enter the number: \"))\n",
    "for i in range(1,n+1):\n",
    "    print(i,end=\" \")"
   ]
  }
 ],
 "metadata": {
  "kernelspec": {
   "display_name": "Python 3 (ipykernel)",
   "language": "python",
   "name": "python3"
  },
  "language_info": {
   "codemirror_mode": {
    "name": "ipython",
    "version": 3
   },
   "file_extension": ".py",
   "mimetype": "text/x-python",
   "name": "python",
   "nbconvert_exporter": "python",
   "pygments_lexer": "ipython3",
   "version": "3.11.1"
  }
 },
 "nbformat": 4,
 "nbformat_minor": 5
}
