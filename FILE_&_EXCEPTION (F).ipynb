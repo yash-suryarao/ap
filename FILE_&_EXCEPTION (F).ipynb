{
 "cells": [
  {
   "cell_type": "markdown",
   "id": "250efc9c-c763-4845-bd83-429fa6cf1187",
   "metadata": {},
   "source": [
    "### File Operation"
   ]
  },
  {
   "cell_type": "code",
   "execution_count": null,
   "id": "e6e5d845-22fa-47da-93eb-b705876fd20c",
   "metadata": {},
   "outputs": [],
   "source": [
    "import os\n",
    "f=open(\"file1.txt\",\"w\")\n",
    "print(f.write(\"Hello\"))"
   ]
  },
  {
   "cell_type": "code",
   "execution_count": 1,
   "id": "e1c535eb-bdff-48e9-b53f-4aebd4b07ba5",
   "metadata": {},
   "outputs": [
    {
     "name": "stdout",
     "output_type": "stream",
     "text": [
      "File does not exist.\n"
     ]
    }
   ],
   "source": [
    "# 1. Write a python program to check file exists or not.\n",
    "import os\n",
    "file_name = \"Theory Ass-2.txt\"\n",
    "if os.path.exists(file_name):\n",
    " print(\"File exists.\")\n",
    "else:\n",
    " print(\"File does not exist.\")"
   ]
  },
  {
   "cell_type": "code",
   "execution_count": 7,
   "id": "6be79122-de53-4204-b177-f12208654038",
   "metadata": {},
   "outputs": [
    {
     "name": "stdout",
     "output_type": "stream",
     "text": [
      "Hello\n",
      "how\n",
      "are you\n"
     ]
    }
   ],
   "source": [
    "file = open(\"file1.txt\", \"r\")  # the a opens it in append mode\n",
    "for i in range(N):\n",
    "    line = next(file).strip()\n",
    "    print(line)"
   ]
  },
  {
   "cell_type": "code",
   "execution_count": 9,
   "id": "5e554690-20ff-43b2-83e3-4e31e7942eb3",
   "metadata": {},
   "outputs": [
    {
     "name": "stdout",
     "output_type": "stream",
     "text": [
      "Total number of lines are:  4\n"
     ]
    }
   ],
   "source": [
    "# 2. Write a python program to count no of lines in a file.\n",
    "f=open(\"file1.txt\",'r')\n",
    "count=0\n",
    "for line in f:\n",
    " count+=1\n",
    "print(\"Total number of lines are: \",count)"
   ]
  },
  {
   "cell_type": "code",
   "execution_count": 10,
   "id": "125136e0-9f8f-4969-9677-bff6c261aca1",
   "metadata": {},
   "outputs": [
    {
     "name": "stdout",
     "output_type": "stream",
     "text": [
      "how\n",
      "\n",
      "are you\n",
      "\n",
      "Good\n"
     ]
    }
   ],
   "source": [
    "# WAP to read last N lines\n",
    "N=3\n",
    "file=open(\"file1.txt\",'r')\n",
    "for line in (file.readlines() [-N:]):\n",
    "    print(line)"
   ]
  },
  {
   "cell_type": "code",
   "execution_count": null,
   "id": "de35ddd6-b89e-4465-8fc2-1a5242c06863",
   "metadata": {},
   "outputs": [],
   "source": [
    "# 3. Write a python program to delete lines from a file.\n",
    "file_name = \"Theory Ass-2.txt\"\n",
    "try:\n",
    " file = open(file_name, \"r\")\n",
    " lines = file.readlines()\n",
    " file.close()\n",
    " # Delete specific lines (e.g., removing the second line)\n",
    " del lines[1]\n",
    " file = open(file_name, \"w\")\n",
    " file.writelines(lines)\n",
    " file.close()\n",
    " print(\"Lines deleted successfully.\")\n",
    "except FileNotFoundError:\n",
    " print(\"File not found.\")\n"
   ]
  },
  {
   "cell_type": "code",
   "execution_count": null,
   "id": "481eb3fb-45ed-47dd-9594-b4da5c06f30d",
   "metadata": {},
   "outputs": [],
   "source": [
    "# 4. Write a python program to count no of files in a directory.\n",
    "import os\n",
    "directory_path =r\"C:\\Users\\Shreyansh\\AP\"\n",
    "try:\n",
    " file_count = len([f for f in os.listdir(directory_path) if os.path.isfile(os\n",
    " print(f\"There are {file_count} files in the directory.\")\n",
    "except FileNotFoundError:\n",
    " print(\"Directory not found.\")\n"
   ]
  },
  {
   "cell_type": "code",
   "execution_count": null,
   "id": "62608d6b-6c4f-4ce8-948d-52cabc5dac28",
   "metadata": {},
   "outputs": [],
   "source": [
    "# 5. Write a python program to read a specific line from a file.\n",
    "file_name = \"Theory Ass-2.txt\"\n",
    "line_number = 3 # Line to read (1-based index)\n",
    "try:\n",
    " file = open(file_name, \"r\")\n",
    " lines = file.readlines()\n",
    " file.close()\n",
    "\n",
    " if 0 < line_number <= len(lines):\n",
    " print(f\"Line {line_number}: {lines[line_number - 1].strip()}\")\n",
    " else:\n",
    " print(\"Line number out of range.\")\n",
    "except FileNotFoundError:\n",
    " print(\"File not found.\")"
   ]
  },
  {
   "cell_type": "markdown",
   "id": "f5d73726-bb01-40d4-be21-4cb0ebdd339b",
   "metadata": {},
   "source": [
    "### AP Practical-3 File and Exception Handling"
   ]
  },
  {
   "cell_type": "code",
   "execution_count": null,
   "id": "7aeec0a0-1ee6-4bb7-b8d6-8f8347c0cdde",
   "metadata": {},
   "outputs": [],
   "source": [
    "# 3. Write a program to copy the contents of a file to another file\n",
    "f=open(\"file1.txt\",\"r\")\n",
    "list1=f.readlines()\n",
    "\n",
    "odd_lines= []\n",
    "for i in range(0,len(list1),2):\n",
    "    odd_lines += list1[i]\n",
    "f.close()\n",
    "\n",
    "f=open(\"odd_lines.txt\",\"w\")\n",
    "for line in odd_lines:\n",
    "    f.write(line)\n",
    "\n",
    "f.close()"
   ]
  },
  {
   "cell_type": "markdown",
   "id": "65341e4f-9697-43cb-9fa5-665b50afb607",
   "metadata": {},
   "source": [
    "#### Exception Handling"
   ]
  },
  {
   "cell_type": "code",
   "execution_count": null,
   "id": "7cb81ba3-0f85-42da-a2a7-3e2c4af81106",
   "metadata": {},
   "outputs": [],
   "source": [
    "\n",
    "# 4. Write a program that exxecutes an operation on a list and handles an IndexError Exception if the index is out of range\n",
    "#without using function\n",
    "my_list=[1,2,3,4,5]\n",
    "index = 5\n",
    "try:\n",
    "    res = my_list[index]\n",
    "    print(my_list,'\\n',res)\n",
    "except IndexError:\n",
    "    print(\"index is out of range\")"
   ]
  },
  {
   "cell_type": "code",
   "execution_count": null,
   "id": "102d76a1-a222-4802-a4fb-0d3e271e7ebe",
   "metadata": {},
   "outputs": [],
   "source": [
    "#with using function\n",
    "def fun1 (my_list, index):\n",
    "  try:\n",
    "    ans = my_list[index]\n",
    "    print(ans)\n",
    "  except IndexError:\n",
    "    print(\"Index is out of range\")\n",
    "\n",
    "my_list = [1, 2, 3]\n",
    "index = -4\n",
    "\n",
    "fun1(my_list, index)"
   ]
  },
  {
   "cell_type": "code",
   "execution_count": null,
   "id": "16d44ba1-c2de-4d00-8404-9eb3f69d8675",
   "metadata": {},
   "outputs": [],
   "source": [
    "# Exception Handling\n",
    "# 5. write a python program that executes division an handles an arithmetic error exception if there is an arithmetic error\n",
    "a = 4\n",
    "b = 0\n",
    "try:\n",
    "    c=a/b\n",
    "    print(c)\n",
    "except ArithmeticError as e:\n",
    "    print(\"This is an ArithmeticError\")"
   ]
  },
  {
   "cell_type": "code",
   "execution_count": null,
   "id": "128dde84-dd73-44ac-b66f-9cc8392f6887",
   "metadata": {},
   "outputs": [],
   "source": [
    "# Exception Handling\n",
    "# 6. write a python program that promts the user to input an integer an raises a ValueError Exception if the input is not a valid integer\n",
    "try:\n",
    "    a=int(input(\"Enter a Integer: \"))\n",
    "    print(a)\n",
    "except ValueError as e:\n",
    "    print(\"This is a ValueError\")"
   ]
  },
  {
   "cell_type": "code",
   "execution_count": 2,
   "id": "24c437db-f1d4-4b5d-9810-3a17248b4647",
   "metadata": {},
   "outputs": [
    {
     "name": "stdout",
     "output_type": "stream",
     "text": [
      "Index Error\n"
     ]
    }
   ],
   "source": [
    "# 1. WAP that executes division & handles and\n",
    "\n",
    "def fun1 (my_list, index):\n",
    "  try:\n",
    "    ans = my_list[index]\n",
    "    print(ans)\n",
    "  except IndexError:\n",
    "    print(\"Index Error\")\n",
    "\n",
    "my_list = [1, 2, 3]\n",
    "index = 3\n",
    "\n",
    "fun1(my_list, index)"
   ]
  },
  {
   "cell_type": "code",
   "execution_count": 3,
   "id": "dd9cf384-c14e-4128-87b3-ef6cf77a4e31",
   "metadata": {},
   "outputs": [
    {
     "name": "stdout",
     "output_type": "stream",
     "text": [
      "Arithmetic operation Zero Division Error\n"
     ]
    }
   ],
   "source": [
    "# 2. Write a python program that execute division & handles an arithmetic exception if there is an arithmetic error\n",
    "\n",
    "def fun2(a, b):\n",
    "  try:\n",
    "    ans = a / b\n",
    "    print(ans)\n",
    "  except ArithmeticError:\n",
    "    print(\"Arithmetic operation Zero Division Error\")\n",
    "\n",
    "a = 10\n",
    "b = 0\n",
    "\n",
    "fun2(a, b)"
   ]
  },
  {
   "cell_type": "code",
   "execution_count": 4,
   "id": "2a441eff-3625-43cb-92ae-d3fb60611a1f",
   "metadata": {},
   "outputs": [
    {
     "name": "stdin",
     "output_type": "stream",
     "text": [
      "Enter a first number:  w\n"
     ]
    },
    {
     "name": "stdout",
     "output_type": "stream",
     "text": [
      "Invalid Input Error\n"
     ]
    },
    {
     "name": "stdin",
     "output_type": "stream",
     "text": [
      "Enter a second number:  a\n"
     ]
    },
    {
     "name": "stdout",
     "output_type": "stream",
     "text": [
      "Invalid Input Error\n"
     ]
    }
   ],
   "source": [
    "# 3. WAP that prompts the user to input two numbers and raise a type error exception if the input not numerical\n",
    "\n",
    "def num_input(value):\n",
    "  try:\n",
    "    res = float(input(value))\n",
    "    return res\n",
    "  except ValueError:\n",
    "    print(\"Invalid Input Error\")\n",
    "\n",
    "n1 = num_input(\"Enter a first number: \")\n",
    "n2 = num_input(\"Enter a second number: \")"
   ]
  },
  {
   "cell_type": "code",
   "execution_count": 5,
   "id": "730f4d77-50a6-4071-bdf8-6a2602255c5b",
   "metadata": {},
   "outputs": [
    {
     "name": "stdin",
     "output_type": "stream",
     "text": [
      "Enter a number:  a\n"
     ]
    },
    {
     "name": "stdout",
     "output_type": "stream",
     "text": [
      "Input value error\n"
     ]
    }
   ],
   "source": [
    "# 4. WAP that prompt the user to input an integer and raise a value error exception if the input is not a valid integer\n",
    "\n",
    "try:\n",
    "  a = int(input(\"Enter a number: \"))\n",
    "  print(a)\n",
    "\n",
    "except ValueError:\n",
    "  print(\"Input value error\")"
   ]
  },
  {
   "cell_type": "code",
   "execution_count": 7,
   "id": "fd77a311-f3a5-49f5-9073-75c36b7e2aeb",
   "metadata": {},
   "outputs": [],
   "source": [
    "# 5. WAP to write the List content to the file\n",
    "\n",
    "my_list = [\"did\", \"you\", \"like\", \"mango\"]\n",
    "\n",
    "file = open(\"file.txt\", \"w\")\n",
    "for i in my_list:\n",
    "  file.write(i + \"\\n\")\n",
    "file.close()"
   ]
  },
  {
   "cell_type": "markdown",
   "id": "cdf0ed5b-577f-4044-8b82-e1349b08051f",
   "metadata": {},
   "source": [
    "### AP Theory Ass -2 FILE OPERATION"
   ]
  },
  {
   "cell_type": "code",
   "execution_count": null,
   "id": "3ef63fcc-fd71-4739-9c89-fd2f59972198",
   "metadata": {},
   "outputs": [],
   "source": [
    "# 1. Write a python program to check file exist or not\n",
    "\n",
    "import os.path\n",
    "\n",
    "def file_exists(file_path):\n",
    "  return os.path.exists(file_path)\n",
    "\n",
    "file_path = \"my_file.txt\"\n",
    "\n",
    "if file_exists(file_path):\n",
    "  print(f\"The file '{file_path}' exists.\")\n",
    "else:\n",
    "  print(f\"The file '{file_path}' does not exist.\")\n"
   ]
  },
  {
   "cell_type": "code",
   "execution_count": null,
   "id": "553dc708-32cc-4977-8108-dce760812f89",
   "metadata": {},
   "outputs": [],
   "source": [
    "# 2. Write a python program to count no of lines in a file.\n",
    "\n",
    "def count_lines(file_path):\n",
    "    with open(file_path, 'r') as f:\n",
    "        lines = f.readlines()\n",
    "        return len(lines)\n",
    "\n",
    "file_path = 'my_file.txt'  # Replace with your file path\n",
    "line_count = count_lines(file_path)\n",
    "print(f\"The file '{file_path}' has {line_count} lines.\")"
   ]
  },
  {
   "cell_type": "code",
   "execution_count": null,
   "id": "abb58bc6-fd7f-41aa-9358-567632cd9db6",
   "metadata": {},
   "outputs": [],
   "source": [
    "# 3. Write a python program to delete lines from a file.\n",
    "\n",
    "def delete_lines(file_path, line_numbers_to_delete):\n",
    "  with open(file_path, 'r') as f:\n",
    "    lines = f.readlines()\n",
    "\n",
    "  with open(file_path, 'w') as f:\n",
    "    for i, line in enumerate(lines):\n",
    "      if i + 1 not in line_numbers_to_delete:\n",
    "        f.write(line)\n",
    "\n",
    "file_path = 'my_file.txt'\n",
    "line_numbers_to_delete = [1]\n",
    "delete_lines(file_path, line_numbers_to_delete)\n",
    "\n",
    "file = open(\"my_file.txt\", \"r\")\n",
    "content = file.read()\n",
    "print(content)\n",
    "file.close()"
   ]
  },
  {
   "cell_type": "code",
   "execution_count": null,
   "id": "8f5101c5-5daa-4121-9c40-514c5f807ce2",
   "metadata": {},
   "outputs": [],
   "source": [
    "# 4. Write a python program to count no of files in a directory.\n",
    "\n",
    "def count_files(directory_path):\n",
    "    file_count = 0\n",
    "    for item in os.listdir(directory_path):\n",
    "        item_path = os.path.join(directory_path, item)\n",
    "        if os.path.isfile(item_path):\n",
    "            file_count += 1\n",
    "    return file_count\n",
    "\n",
    "# Example usage:\n",
    "directory_path = '.'  # Replace with your directory path\n",
    "file_count = count_files(directory_path)\n",
    "print(f\"The directory '{directory_path}' has {file_count} files.\")"
   ]
  },
  {
   "cell_type": "code",
   "execution_count": null,
   "id": "0cd8d783-74a8-4f4a-aeec-80e49b71ecba",
   "metadata": {},
   "outputs": [],
   "source": [
    "# 5. Write a python program to read a specific line from a file.\n",
    "\n",
    "def read_specific_line(file_path, line_number):\n",
    "    with open(file_path, 'r') as f:\n",
    "        for i, line in enumerate(f):\n",
    "            if i + 1 == line_number:\n",
    "                return line.strip()\n",
    "            return None\n",
    "\n",
    "file_path = 'my_file.txt'\n",
    "line_number = 1\n",
    "line_content = read_specific_line(file_path, line_number)\n",
    "\n",
    "if line_content:\n",
    "  print(f\"Line {line_number}: {line_content}\")\n",
    "else:\n",
    "  print(f\"Line {line_number} not found in the file.\")"
   ]
  }
 ],
 "metadata": {
  "kernelspec": {
   "display_name": "Python 3 (ipykernel)",
   "language": "python",
   "name": "python3"
  },
  "language_info": {
   "codemirror_mode": {
    "name": "ipython",
    "version": 3
   },
   "file_extension": ".py",
   "mimetype": "text/x-python",
   "name": "python",
   "nbconvert_exporter": "python",
   "pygments_lexer": "ipython3",
   "version": "3.11.1"
  }
 },
 "nbformat": 4,
 "nbformat_minor": 5
}
