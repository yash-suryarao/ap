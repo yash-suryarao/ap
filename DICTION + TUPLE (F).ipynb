{
 "cells": [
  {
   "cell_type": "code",
   "execution_count": 8,
   "id": "1f0474cf-9cd2-454e-b6d2-059edaf62125",
   "metadata": {},
   "outputs": [
    {
     "name": "stdout",
     "output_type": "stream",
     "text": [
      "{'Name': 'Sail Pawar', 'Age': 20, 'City': 'Mumbai'}\n",
      "Sail Pawar\n",
      "20\n",
      "Mumbai\n"
     ]
    }
   ],
   "source": [
    "#1 Create a dictionary\n",
    "\n",
    "dict={\n",
    "        'Name' : 'Sail Pawar',\n",
    "        'Age'  : 20 ,\n",
    "        'City' : 'Mumbai'\n",
    "     }\n",
    "print(dict)\n",
    "\n",
    "#2 Accessing volumes\n",
    "#Access volumes using their keys\n",
    "print(dict['Name'])\n",
    "print(dict['Age'])\n",
    "print(dict['City'])"
   ]
  },
  {
   "cell_type": "code",
   "execution_count": 9,
   "id": "261e215e-d6ac-4172-972e-ebad58c0d8dc",
   "metadata": {},
   "outputs": [
    {
     "name": "stdout",
     "output_type": "stream",
     "text": [
      "{'Name': 'Sail Pawar', 'Age': 22, 'City': 'Mumbai', 'Email': 'sailpawar72927@gmail.com'}\n"
     ]
    }
   ],
   "source": [
    "#3 Adding or updating new key-value pair into dictiornary\n",
    "\n",
    "dict['Email'] = 'sailpawar72927@gmail.com'\n",
    "\n",
    "#Updating on existing key value pair \n",
    "dict['Age'] = 22\n",
    "print(dict)"
   ]
  },
  {
   "cell_type": "code",
   "execution_count": 12,
   "id": "1dabb9c5-a999-424b-91f3-6b8acc007f83",
   "metadata": {},
   "outputs": [
    {
     "name": "stdout",
     "output_type": "stream",
     "text": [
      "{'Name': 'Sail Pawar', 'Email': 'sailpawar72927@gmail.com'}\n"
     ]
    }
   ],
   "source": [
    "#4 Removing key-value pair\n",
    "dict.pop('City')\n",
    "\n",
    "# Removing a key-value pair using del\n",
    "del dict['Age']\n",
    "\n",
    "# myDict.popitem() # removes the last key-value pair\n",
    "print(dict)"
   ]
  },
  {
   "cell_type": "code",
   "execution_count": 13,
   "id": "7603b7f0-3f2b-4510-9443-d89c2543c326",
   "metadata": {},
   "outputs": [
    {
     "name": "stdout",
     "output_type": "stream",
     "text": [
      "Keys: ['Name', 'Age', 'City', 'Email']\n",
      "Values: ['Sail Pawar', 20, 'Mumbai', 'sailpawar72927@gmail.com']\n"
     ]
    }
   ],
   "source": [
    "dict={\n",
    "        'Name' : 'Sail Pawar',\n",
    "        'Age'  : 20 ,\n",
    "        'City' : 'Mumbai',\n",
    "        'Email' : 'sailpawar72927@gmail.com'\n",
    "     }\n",
    "\n",
    "print(\"Keys:\",list(dict.keys()))\n",
    "print(\"Values:\",list(dict.values()))"
   ]
  },
  {
   "cell_type": "code",
   "execution_count": 14,
   "id": "d8de0940-eacd-407e-905c-89e04fd5e94d",
   "metadata": {},
   "outputs": [
    {
     "name": "stdout",
     "output_type": "stream",
     "text": [
      "Name : Sail Pawar\n",
      "Age : 20\n",
      "City : Mumbai\n",
      "Email : sailpawar72927@gmail.com\n"
     ]
    }
   ],
   "source": [
    "#Print Key-Values pairs using for loops\n",
    "\n",
    "for keys, values in dict.items():\n",
    "    print(keys,\":\",values)"
   ]
  },
  {
   "cell_type": "markdown",
   "id": "2b5668d5-c2bc-430f-abe2-d8069ded821a",
   "metadata": {},
   "source": [
    "### Tuples \n",
    "\n"
   ]
  },
  {
   "cell_type": "code",
   "execution_count": 1,
   "id": "4c7f420b-0672-4a74-ad17-14481d5b5937",
   "metadata": {},
   "outputs": [
    {
     "name": "stdout",
     "output_type": "stream",
     "text": [
      "(1, 2, 3, 4, 5, 6)\n"
     ]
    }
   ],
   "source": [
    "my_tuple = (1,2,3,4,5,6)\n",
    "print(my_tuple)"
   ]
  },
  {
   "cell_type": "code",
   "execution_count": 15,
   "id": "10e54820-bae3-4648-bef3-925731a01a67",
   "metadata": {},
   "outputs": [
    {
     "name": "stdout",
     "output_type": "stream",
     "text": [
      "(1, 2, 3, 4)\n"
     ]
    }
   ],
   "source": [
    "# Creating a tuple without parantheses (implicit tupel) \n",
    "my_tuple2 = 1,2,3,4\n",
    "print(my_tuple2)"
   ]
  },
  {
   "cell_type": "code",
   "execution_count": 16,
   "id": "61db94f1-e08b-4f05-8966-b4196a1dbd97",
   "metadata": {},
   "outputs": [
    {
     "name": "stdout",
     "output_type": "stream",
     "text": [
      "()\n"
     ]
    }
   ],
   "source": [
    "# creating an empty Tuple\n",
    "\n",
    "empty_tuple=()\n",
    "print(empty_tuple)"
   ]
  },
  {
   "cell_type": "code",
   "execution_count": 17,
   "id": "80769335-39b3-48e2-a8b1-b02b4bfa9728",
   "metadata": {},
   "outputs": [
    {
     "name": "stdout",
     "output_type": "stream",
     "text": [
      "(1,)\n"
     ]
    }
   ],
   "source": [
    "# Creating a Tuple with one element\n",
    "\n",
    "single_element_tup = (1,)\n",
    "print(single_element_tup)"
   ]
  },
  {
   "cell_type": "code",
   "execution_count": null,
   "id": "4726723c-bbb9-4250-8858-ebb772f9314a",
   "metadata": {},
   "outputs": [],
   "source": [
    "#2. Accessing Tuple elements\n",
    "\n",
    "print(my_tuple[0])\n",
    "print(my_tuple[1])\n",
    "print(type(my_tuple))"
   ]
  },
  {
   "cell_type": "code",
   "execution_count": null,
   "id": "b5058e6f-2c6a-4102-b60f-c58c16edccf1",
   "metadata": {},
   "outputs": [],
   "source": [
    "#3. Tuple concatenation and Repetition\n",
    "\n",
    "tup1 = (1, 2, 3)\n",
    "tup2 = (4, 5, 6)\n",
    "\n",
    "#Constructor\n",
    "combine_tup = tup1 + tup2\n",
    "print(combine_tup)"
   ]
  },
  {
   "cell_type": "code",
   "execution_count": 22,
   "id": "cb5083a4-b7da-4a6e-8f34-9a0b759786b8",
   "metadata": {},
   "outputs": [
    {
     "name": "stdout",
     "output_type": "stream",
     "text": [
      "1\n",
      "1\n",
      "[1, 2, 3, 4, 5, 6]\n",
      "<class 'list'>\n",
      "(4, 5, 6)\n"
     ]
    }
   ],
   "source": [
    "# Tuple Methods\n",
    "# There are only two built-in Methods in Tuble\n",
    "my_tup=(1,2,3,4,5,6)\n",
    "\n",
    "# COUNT OCCURANCE OF AN ELEMENTS\n",
    "print(my_tup.count(4))\n",
    "\n",
    "#finding the index of an element \n",
    "print(my_tup.index(2))\n",
    "\n",
    "\n",
    "#Converting Tuple into list\n",
    "tup_list = list(my_tup)\n",
    "print(tup_list)\n",
    "print(type(tup_list))\n",
    "\n",
    "# print(list(my_tuple))\n",
    "\n",
    "List = [4, 5, 6]\n",
    "print(tuple(List))"
   ]
  },
  {
   "cell_type": "markdown",
   "id": "ac90b7e3-966f-447e-ac11-3efd7913b82d",
   "metadata": {},
   "source": [
    "### SETS"
   ]
  },
  {
   "cell_type": "code",
   "execution_count": 23,
   "id": "e877fe43-bf9d-4cab-9552-25b204e96932",
   "metadata": {},
   "outputs": [
    {
     "name": "stdout",
     "output_type": "stream",
     "text": [
      "{'Mango', 'Banana', 'Cherry', 'Apple'}\n",
      "{'Apple', 'Banana'}\n",
      "{'Mango'}\n"
     ]
    }
   ],
   "source": [
    "\n",
    "set1 = {'Apple', 'Banana', 'Mango'}\n",
    "set2 = {'Cherry', 'Banana', 'Apple'}\n",
    "# print(set1)\n",
    "# print(set2)\n",
    "\n",
    "# UNION\n",
    "print(set1.union(set2))\n",
    "\n",
    "# INTERACTION\n",
    "print(set1.intersection(set2))\n",
    "\n",
    "# DIFFERENCE\n",
    "print(set1.difference(set2))"
   ]
  },
  {
   "cell_type": "code",
   "execution_count": null,
   "id": "12078a35-f497-46ae-8890-bc2725d61ee5",
   "metadata": {},
   "outputs": [],
   "source": []
  }
 ],
 "metadata": {
  "kernelspec": {
   "display_name": "Python 3 (ipykernel)",
   "language": "python",
   "name": "python3"
  },
  "language_info": {
   "codemirror_mode": {
    "name": "ipython",
    "version": 3
   },
   "file_extension": ".py",
   "mimetype": "text/x-python",
   "name": "python",
   "nbconvert_exporter": "python",
   "pygments_lexer": "ipython3",
   "version": "3.11.1"
  }
 },
 "nbformat": 4,
 "nbformat_minor": 5
}
