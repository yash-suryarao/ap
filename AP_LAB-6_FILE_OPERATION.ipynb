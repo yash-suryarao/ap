{
 "cells": [
  {
   "cell_type": "code",
   "execution_count": null,
   "id": "1d765674-725b-471b-abee-57627bf3d56c",
   "metadata": {},
   "outputs": [],
   "source": [
    "# FILE OPERATIONS\n",
    "Name : Yash Suryarao\n",
    "PRN : 20240804062"
   ]
  },
  {
   "cell_type": "code",
   "execution_count": 15,
   "id": "7711b3bb-1bf5-443b-b2c3-0a288023987b",
   "metadata": {},
   "outputs": [],
   "source": [
    "f = open (\"abc.txt\", \"w\")"
   ]
  },
  {
   "cell_type": "code",
   "execution_count": 16,
   "id": "b6f2bc96-61e1-4890-a5fb-05d58eb0a089",
   "metadata": {},
   "outputs": [],
   "source": [
    "f.write(\"Hello Everyone\\n\")\n",
    "f.write(\"How\\n\")\n",
    "f.write(\"Are\\n\")\n",
    "f.write(\"You\")\n",
    "f.close()"
   ]
  },
  {
   "cell_type": "code",
   "execution_count": 7,
   "id": "1c7e24a8-422e-4391-83ef-cc9be39e9299",
   "metadata": {},
   "outputs": [],
   "source": [
    "import os\n",
    "os.remove(\"xyz.txt\")"
   ]
  },
  {
   "cell_type": "code",
   "execution_count": 9,
   "id": "2198cc3d-59c2-4a5f-a899-d9e46fa897d9",
   "metadata": {},
   "outputs": [],
   "source": [
    "current_name = \"abc.txt\"\n",
    "new_name = \"file1.txt\"\n",
    "os.rename(current_name, new_name)"
   ]
  },
  {
   "cell_type": "code",
   "execution_count": 10,
   "id": "40fd7983-80ca-40f9-8d68-3c3f2b3a5a65",
   "metadata": {},
   "outputs": [
    {
     "name": "stdout",
     "output_type": "stream",
     "text": [
      "Hello Everyone\n",
      "How\n",
      "Are\n",
      "You\n"
     ]
    }
   ],
   "source": [
    "file=open(\"file1.txt\")\n",
    "print(file.read())\n",
    "file.close()"
   ]
  },
  {
   "cell_type": "code",
   "execution_count": 12,
   "id": "374bb9cd-ac7d-4a19-a2ef-85ce6c2b33c4",
   "metadata": {},
   "outputs": [
    {
     "name": "stdout",
     "output_type": "stream",
     "text": [
      "Good Morning!\n",
      "\n"
     ]
    }
   ],
   "source": [
    "f=open(\"file1.txt\",\"a\")\n",
    "f.write(\"Good Evening!\")\n",
    "f.close()"
   ]
  },
  {
   "cell_type": "code",
   "execution_count": 20,
   "id": "bad3bfbd-5a7c-44e7-9f0b-745e7b454fc1",
   "metadata": {},
   "outputs": [
    {
     "name": "stdout",
     "output_type": "stream",
     "text": [
      "Hello Everyone\n",
      "\n",
      "Ho\n"
     ]
    }
   ],
   "source": [
    "f=open(\"file1.txt\")\n",
    "print(f.readline())\n",
    "print(f.readline(2))\n",
    "f.close()"
   ]
  },
  {
   "cell_type": "code",
   "execution_count": null,
   "id": "3992fdcf-e976-44e0-a79f-22011bc60ffa",
   "metadata": {},
   "outputs": [],
   "source": []
  },
  {
   "cell_type": "code",
   "execution_count": 23,
   "id": "cbfcf92a-840d-4faa-a2a7-dd172e7221c1",
   "metadata": {},
   "outputs": [
    {
     "name": "stdout",
     "output_type": "stream",
     "text": [
      "['Hello Everyone\\n', 'How\\n', 'Are\\n', 'You']\n"
     ]
    }
   ],
   "source": [
    "# 1. WAP to read a file line by line and store in a list.\n",
    "\n",
    "file = open(\"file1.txt\")\n",
    "line=[]\n",
    "\n",
    "for i in file:\n",
    "    line.append(i)\n",
    "file.close()\n",
    "print(line)"
   ]
  },
  {
   "cell_type": "code",
   "execution_count": 27,
   "id": "303aa8e6-529c-42fc-b2d9-64d6cb1c1d2a",
   "metadata": {},
   "outputs": [
    {
     "name": "stdin",
     "output_type": "stream",
     "text": [
      "Enter charecter upto you want : 3\n"
     ]
    },
    {
     "name": "stdout",
     "output_type": "stream",
     "text": [
      "Hel\n"
     ]
    }
   ],
   "source": [
    "# 2. wap to read a character till a count\n",
    "\n",
    "file = open(\"file1.txt\")\n",
    "n = int(input(\"Enter charecter upto you want :\"))\n",
    "print(file.read(n))\n",
    "file.close()"
   ]
  },
  {
   "cell_type": "code",
   "execution_count": 29,
   "id": "6a2a23ff-ab52-4db1-a510-e17879f22afc",
   "metadata": {},
   "outputs": [
    {
     "name": "stdout",
     "output_type": "stream",
     "text": [
      "Number of lines : 4\n"
     ]
    }
   ],
   "source": [
    "# 3. wap to count the number of lines in a file \n",
    "file = open(\"file1.txt\")\n",
    "cnt = 0\n",
    "for line in file:\n",
    "    cnt += 1\n",
    "print(\"Number of lines :\",cnt)"
   ]
  },
  {
   "cell_type": "code",
   "execution_count": 13,
   "id": "90503534-7ee2-4c32-8654-e6cfa64075c0",
   "metadata": {},
   "outputs": [
    {
     "name": "stdout",
     "output_type": "stream",
     "text": [
      "4\n",
      "5\n",
      "Number of Charater:  22\n"
     ]
    }
   ],
   "source": [
    "# WAP to count the number of character in a file\n",
    "file = open(\"file1.txt\", 'r')\n",
    "\n",
    "lines = 0\n",
    "words = 0\n",
    "characters = 0\n",
    "for line in file:\n",
    "    wordslist = line.split()\n",
    "    lines = lines + 1\n",
    "    words = words + len(wordslist)\n",
    "    characters = characters + len(line)\n",
    "print(lines)\n",
    "print(words)\n",
    "print(\"Number of Charater: \",characters)\n"
   ]
  },
  {
   "cell_type": "code",
   "execution_count": 31,
   "id": "4fe5f711-b36a-458b-9a27-5f4aa14cc47d",
   "metadata": {},
   "outputs": [
    {
     "name": "stdout",
     "output_type": "stream",
     "text": [
      "***File 1***\n",
      "Hello Everyone\n",
      "How\n",
      "Are\n",
      "You\n",
      "***File 2***\n",
      "Hello Everyone\n",
      "Are\n",
      "\n"
     ]
    }
   ],
   "source": [
    "# 4. wap to copy odd line of a file to another file \n",
    "\n",
    "f1 = open(\"file1.txt\")\n",
    "f2 = open(\"test.txt\",\"w+\")\n",
    "\n",
    "cnt = 0\n",
    "\n",
    "for line in f1:\n",
    "    cnt += 1\n",
    "    if cnt % 2 != 0:\n",
    "        f2.write(line)\n",
    "\n",
    "f1.seek(0)\n",
    "f2.seek(0)\n",
    "print(\"***File 1***\")\n",
    "print(f1.read())\n",
    "print(\"***File 2***\")\n",
    "print(f2.read())\n",
    "\n",
    "f1.close()\n",
    "f2.close()"
   ]
  }
 ],
 "metadata": {
  "kernelspec": {
   "display_name": "Python 3 (ipykernel)",
   "language": "python",
   "name": "python3"
  },
  "language_info": {
   "codemirror_mode": {
    "name": "ipython",
    "version": 3
   },
   "file_extension": ".py",
   "mimetype": "text/x-python",
   "name": "python",
   "nbconvert_exporter": "python",
   "pygments_lexer": "ipython3",
   "version": "3.11.1"
  }
 },
 "nbformat": 4,
 "nbformat_minor": 5
}
