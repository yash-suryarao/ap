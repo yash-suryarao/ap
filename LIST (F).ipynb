{
 "cells": [
  {
   "cell_type": "code",
   "execution_count": null,
   "id": "9a141f73-c6ae-477d-96fe-b9cb9efbe341",
   "metadata": {},
   "outputs": [],
   "source": [
    "# 1.Creating list\n",
    "my_list = [1,2,3,4,5]\n",
    "mixed_list = [1,'Hello',3.14, True]\n",
    "empty_list= []\n",
    "\n",
    "print(my_list)\n",
    "print(mixed_list)\n",
    "print(empty_list)"
   ]
  },
  {
   "cell_type": "code",
   "execution_count": null,
   "id": "0de6d9cb-8291-45ce-9353-9962640d3739",
   "metadata": {},
   "outputs": [],
   "source": [
    "# 2.Accessing list Elements\n",
    "# Accessing elements using indices  (positive for left to right  & negative right to left)\n",
    "# Accessing element\n",
    "my_list= ['apple','banana','cherry']\n",
    "print(my_list[0])\n",
    "print(my_list[-1])"
   ]
  },
  {
   "cell_type": "code",
   "execution_count": null,
   "id": "e45d3c7c-d534-4ffa-adef-ee5f4cd5c14a",
   "metadata": {},
   "outputs": [],
   "source": [
    "# 3. Modifying list Elements\n",
    "# lists are mutable  , so  that you can change their elements,\n",
    "# Modifying elements\n",
    "my_list = [1,2,3,4,5]\n",
    "my_list[0] = 10\n",
    "print(my_list)\n"
   ]
  },
  {
   "cell_type": "code",
   "execution_count": null,
   "id": "01281b1c-ff13-4464-95f4-d4b8aeadc85d",
   "metadata": {},
   "outputs": [],
   "source": [
    "# 4. Adding Elements to a list\n",
    "# Use append() to add an element to the end  , insert () to add at a specific position , and extend ()\n",
    "my_list =[1,2,3]\n",
    "\n",
    "# Append\n",
    "my_list.append(4)\n",
    "print(my_list)\n",
    "\n",
    "# insert\n",
    "my_list.insert(1,5)\n",
    "print(my_list)\n",
    "\n",
    "\n",
    "#Extend\n",
    "my_list.extend([5,6,7,])\n",
    "print(my_list)"
   ]
  },
  {
   "cell_type": "code",
   "execution_count": 18,
   "id": "871b2b52-e548-406f-bc7c-7bcbd3298214",
   "metadata": {},
   "outputs": [
    {
     "name": "stdout",
     "output_type": "stream",
     "text": [
      "[1, 2, 3, 5]\n",
      "[1, 2, 3]\n",
      "[]\n"
     ]
    }
   ],
   "source": [
    "# 5. Removing Elements from a list\n",
    "# Use remove () to remove  a specific element  , use pop() to remove by index and use clear() to empty the list\n",
    "\n",
    "\n",
    "my_list = [1,2,3,4,5]\n",
    "\n",
    "# Remove by value\n",
    "\n",
    "my_list.remove(4)\n",
    "print(my_list)\n",
    "\n",
    "# Remove by index\n",
    "\n",
    "my_list.pop(3)\n",
    "print(my_list)\n",
    "\n",
    "# Clear\n",
    "\n",
    "my_list.clear()\n",
    "print(my_list)"
   ]
  },
  {
   "cell_type": "code",
   "execution_count": 17,
   "id": "58433c3f-a680-4768-9f36-08c3cb0f7fd9",
   "metadata": {},
   "outputs": [
    {
     "name": "stdout",
     "output_type": "stream",
     "text": [
      "[20, 30, 40]\n",
      "[10, 20]\n",
      "[40, 50]\n",
      "[30, 40, 50]\n"
     ]
    }
   ],
   "source": [
    "# 6.Slicing list\n",
    "# Extract sublists using slicing .\n",
    "\n",
    "my_list = [10,20,30,40,50]\n",
    "\n",
    "#Slicing\n",
    "print(my_list[1:4])\n",
    "print(my_list[:2])\n",
    "print(my_list[3:])\n",
    "print(my_list[-3:])\n"
   ]
  },
  {
   "cell_type": "code",
   "execution_count": 16,
   "id": "1ec900b6-023d-4d05-97f1-8c832d3ed353",
   "metadata": {},
   "outputs": [
    {
     "name": "stdout",
     "output_type": "stream",
     "text": [
      "[1, 2, 3, 4, 5, 6]\n",
      "[1, 2, 3, 1, 2, 3, 1, 2, 3]\n",
      "[4, 5, 6, 4, 5, 6]\n"
     ]
    }
   ],
   "source": [
    "# 7. List Concatenation and  Repetition\n",
    "# Use + to Concatenate  & * to repeat  list\n",
    "\n",
    "\n",
    "list_1= [1,2,3]\n",
    "list_2= [4,5,6]\n",
    "\n",
    "# Concatenation\n",
    "combined_list = list_1 + list_2\n",
    "print(combined_list)\n",
    "\n",
    "# Repeation\n",
    "repeated_list = list_1 * 3\n",
    "repeated_list2 = list_2 * 2\n",
    "\n",
    "print(repeated_list)\n",
    "print(repeated_list2)\n"
   ]
  },
  {
   "cell_type": "code",
   "execution_count": 15,
   "id": "b7d4a2ec-daad-42ab-b510-1c070b9ab51d",
   "metadata": {},
   "outputs": [
    {
     "name": "stdout",
     "output_type": "stream",
     "text": [
      "a b c d e "
     ]
    }
   ],
   "source": [
    "# 8. Looping through a list   (Horizontal)\n",
    "# Loop through  elements using a loop .\n",
    "\n",
    "my_list = ['a','b','c','d','e']\n",
    "\n",
    "for item in my_list:\n",
    "    print(item,end=' ')"
   ]
  },
  {
   "cell_type": "code",
   "execution_count": 12,
   "id": "c333fcb5-84f0-4fab-92b9-ce9f9549d28e",
   "metadata": {},
   "outputs": [
    {
     "name": "stdout",
     "output_type": "stream",
     "text": [
      "[1, 2, 3, 4, 5, 6, 8]\n",
      "[8, 6, 5, 4, 3, 2, 1]\n"
     ]
    }
   ],
   "source": [
    "# 9. Sorting Lists\n",
    "# Use sort() to sort a list in place  and sorted() to return  a sorted copy.\n",
    "\n",
    "my_list = [3,1,5,6,8,4,2]\n",
    "\n",
    "# Sorting in place\n",
    "my_list.sort()\n",
    "print(my_list)\n",
    "\n",
    "# Sorting with sorted ()\n",
    "sorted_list = sorted(my_list, reverse=True)\n",
    "\n",
    "print(sorted_list)\n"
   ]
  },
  {
   "cell_type": "code",
   "execution_count": 1,
   "id": "730a685d-c80d-4527-9c13-5735107987c5",
   "metadata": {},
   "outputs": [],
   "source": [
    "# AP lab Practical-1 (LIST)"
   ]
  },
  {
   "cell_type": "code",
   "execution_count": 11,
   "id": "0b0a0c24-50f7-4124-9a15-85faf3b1429b",
   "metadata": {},
   "outputs": [
    {
     "name": "stdout",
     "output_type": "stream",
     "text": [
      "Largest Number:  14\n"
     ]
    }
   ],
   "source": [
    "# WAP to find Largest no in the list\n",
    "\n",
    "List = [11, 4, 9, 14, 13,]\n",
    "\n",
    "largest = List[0]\n",
    "\n",
    "for i in List:\n",
    "  if i > largest:\n",
    "    largest = i\n",
    "\n",
    "print(\"Largest Number: \", largest)\n"
   ]
  },
  {
   "cell_type": "code",
   "execution_count": 10,
   "id": "ec76f221-01c4-440d-9469-fdb46190d992",
   "metadata": {},
   "outputs": [
    {
     "name": "stdout",
     "output_type": "stream",
     "text": [
      "1\n"
     ]
    }
   ],
   "source": [
    "# WAP to find smallest no in the list\n",
    "\n",
    "List = [8, 21, 88, 3, 1]\n",
    "\n",
    "min = List[0]\n",
    "\n",
    "for i in List:\n",
    "  if i < min:\n",
    "    min = i\n",
    "print(min)\n"
   ]
  },
  {
   "cell_type": "code",
   "execution_count": 9,
   "id": "382d8e26-71f1-4017-a5a8-a4220312064b",
   "metadata": {},
   "outputs": [
    {
     "name": "stdout",
     "output_type": "stream",
     "text": [
      "2nd largest element: 8\n"
     ]
    }
   ],
   "source": [
    "# WAP to find 2nd largest element in program\n",
    "\n",
    "List = [1,5,8,3, 11]\n",
    "\n",
    "max = List[0]\n",
    "second_max = List[0]\n",
    "for i in List:\n",
    "  if i > max:\n",
    "    second_max = max\n",
    "    max = i\n",
    "  elif i > second_max and i != max:\n",
    "    second_max = i\n",
    "\n",
    "print(\"2nd largest element:\", second_max)"
   ]
  },
  {
   "cell_type": "code",
   "execution_count": 7,
   "id": "f2796659-c8a2-440d-9f20-fe0cd3cc8772",
   "metadata": {},
   "outputs": [
    {
     "name": "stdout",
     "output_type": "stream",
     "text": [
      "Odd Numbers:  21\n",
      "Odd Numbers:  3\n",
      "Odd Numbers:  1\n"
     ]
    }
   ],
   "source": [
    "# WAP to print odd numbers in a list\n",
    "\n",
    "List = [8, 21, 88, 3, 1]\n",
    "\n",
    "for i in List:\n",
    "  if i%2 != 0:\n",
    "    print(\"Odd Numbers: \",i)"
   ]
  },
  {
   "cell_type": "code",
   "execution_count": 6,
   "id": "947992ec-a3d9-45cb-be8f-ed5ea864de18",
   "metadata": {},
   "outputs": [
    {
     "name": "stdout",
     "output_type": "stream",
     "text": [
      "Even:  8\n",
      "Even:  88\n"
     ]
    }
   ],
   "source": [
    "# WAP to print Even numbers in a list\n",
    "\n",
    "List = [8, 21, 88, 3, 1]\n",
    "\n",
    "for i in List:\n",
    "  if i%2==0:\n",
    "    print(\"Even: \",i)"
   ]
  },
  {
   "cell_type": "code",
   "execution_count": 5,
   "id": "a66d2b5e-0f11-4692-8ebf-b33b7cdde015",
   "metadata": {},
   "outputs": [
    {
     "name": "stdout",
     "output_type": "stream",
     "text": [
      "Even count:  3\n",
      "Odd count:  5\n"
     ]
    }
   ],
   "source": [
    "# WAP to count even & odd number in the list\n",
    "\n",
    "List = [1, 11, 4, 21, 7, 44, 2, 3]\n",
    "\n",
    "even=0\n",
    "odd=0\n",
    "\n",
    "for i in List:\n",
    "  if i%2 == 0:\n",
    "    even += 1\n",
    "  else:\n",
    "    odd += 1\n",
    "\n",
    "print(\"Even count: \", even)\n",
    "print(\"Odd count: \", odd)\n"
   ]
  },
  {
   "cell_type": "code",
   "execution_count": 4,
   "id": "98a95b96-6e16-4731-a440-80761629c28f",
   "metadata": {},
   "outputs": [
    {
     "name": "stdout",
     "output_type": "stream",
     "text": [
      "Sum:  19\n",
      "Average:  4.75\n"
     ]
    }
   ],
   "source": [
    "# WAP to find Sum & average of list in python\n",
    "\n",
    "List = [1, 8, 4, 6]\n",
    "\n",
    "sum = 0\n",
    "\n",
    "for i in List:\n",
    "  sum += i\n",
    "\n",
    "avg = sum/len(List)\n",
    "\n",
    "print(\"Sum: \", sum)\n",
    "print(\"Average: \",avg)"
   ]
  },
  {
   "cell_type": "code",
   "execution_count": 3,
   "id": "472f4cf7-c797-4b76-836a-27da2895edcf",
   "metadata": {},
   "outputs": [
    {
     "name": "stdout",
     "output_type": "stream",
     "text": [
      "121\n",
      "141\n",
      "252\n",
      "Total palindrome nos. are 3\n"
     ]
    }
   ],
   "source": [
    "# Python program to count and print all palindrome numbers in a list.\n",
    "\n",
    "def palindromeNumbers(list_a):\n",
    "\n",
    "    c = 0\n",
    "\n",
    "    # loop till list is not empty\n",
    "    for i in list_a:\n",
    "\n",
    "        # Find reverse of current number\n",
    "        t = i\n",
    "        rev = 0\n",
    "        while t > 0:\n",
    "            rev = rev * 10 + t % 10\n",
    "            t = t // 10\n",
    "\n",
    "        # compare rev with the current number\n",
    "        if rev == i:\n",
    "            print(i)\n",
    "            c = c + 1\n",
    "\n",
    "    print(\"Total palindrome nos. are\", c)\n",
    "\n",
    "def main():\n",
    "\n",
    "    list_a = [10, 121, 133, 155, 141, 252]\n",
    "    palindromeNumbers(list_a)\n",
    "\n",
    "\n",
    "if __name__ == \"__main__\":\n",
    "    main()"
   ]
  }
 ],
 "metadata": {
  "kernelspec": {
   "display_name": "Python 3 (ipykernel)",
   "language": "python",
   "name": "python3"
  },
  "language_info": {
   "codemirror_mode": {
    "name": "ipython",
    "version": 3
   },
   "file_extension": ".py",
   "mimetype": "text/x-python",
   "name": "python",
   "nbconvert_exporter": "python",
   "pygments_lexer": "ipython3",
   "version": "3.11.1"
  }
 },
 "nbformat": 4,
 "nbformat_minor": 5
}
