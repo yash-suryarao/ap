{
 "cells": [
  {
   "cell_type": "code",
   "execution_count": 2,
   "id": "d5ace9da-fca1-4afe-bbf2-185520ff4b64",
   "metadata": {},
   "outputs": [
    {
     "name": "stdout",
     "output_type": "stream",
     "text": [
      "9\n",
      "2\n",
      "16\n",
      "2.0\n"
     ]
    }
   ],
   "source": [
    "# 1. Program for simple Calculator class\n",
    "\n",
    "class Calculator:\n",
    "    def add(self, a,b):\n",
    "        print(a+b)\n",
    "    def sub(self,a,b):\n",
    "        print(a-b)\n",
    "    def mult(self,a,b):\n",
    "        print(a*b)\n",
    "    def div(self,a,b):\n",
    "        print(a/b)\n",
    "ob=Calculator()\n",
    "ob.add(4,5)\n",
    "ob.sub(5,3)\n",
    "ob.mult(4,4)\n",
    "ob.div(10,5)"
   ]
  },
  {
   "cell_type": "code",
   "execution_count": 5,
   "id": "497591b1-12cd-45fe-aaaf-f954c6721dac",
   "metadata": {},
   "outputs": [
    {
     "name": "stdout",
     "output_type": "stream",
     "text": [
      "Gas Vehicle Created:\n",
      "Name of Vehicle: Tata Punch\n",
      "Name of Model:  model 11\n",
      "Name of Color: White\n",
      "Year of Vehicle: 2004\n",
      "Electric Vehicle Created:\n",
      "Name of Vehicle: Kia\n",
      "Name of Model: model 22c\n",
      "Name of Color: Black\n",
      "Year of Vehicle: 2007\n",
      "This is Heavy vehicle\n",
      "Name of Vehicle: Ashoka Leyland\n",
      "Name of Model: Model 33c\n",
      "Name of Color: Red\n",
      "Year of Vehicle: 2010\n"
     ]
    }
   ],
   "source": [
    "#create a vehicle class\n",
    "class Vehicle:\n",
    "    def __init__(self, name, model, color, year):\n",
    "        self.name = name\n",
    "        self.model = model\n",
    "        self.color = color\n",
    "        self.year = year\n",
    "    def display(self):\n",
    "        print(f\"Name of Vehicle: {self.name}\")\n",
    "        print(f\"Name of Model: {self.model}\")\n",
    "        print(f\"Name of Color: {self.color}\")\n",
    "        print(f\"Year of Vehicle: {self.year}\")\n",
    "\n",
    "class GasVehicle(Vehicle):\n",
    "    def __init__(self, name, model, color, year):\n",
    "        super().__init__(name, model, color, year)\n",
    "        print(\"Gas Vehicle Created:\")\n",
    "        self.display()\n",
    "\n",
    "class ElectricVehicle(Vehicle):\n",
    "    def __init__(self, name, model, color, year):\n",
    "        super().__init__(name, model, color, year)\n",
    "        print(\"Electric Vehicle Created:\")\n",
    "        self.display()\n",
    "\n",
    "class HeavyVehicle(Vehicle):\n",
    "    def __init__(self, name, model, color, year):\n",
    "        super().__init__(name,model,color,year)\n",
    "        print(\"This is Heavy vehicle\")\n",
    "        self.display()\n",
    "        \n",
    "gas_vehicle = GasVehicle(\"Tata Punch\", \" model 11\" ,\"White\", 2004)\n",
    "electric_vehicle=ElectricVehicle(\"Kia\", \"model 22c\", \"Black\", 2007)\n",
    "heavy_vehicle=HeavyVehicle(\"Ashoka Leyland\",\"Model 33c\" ,\"Red\",2010)"
   ]
  },
  {
   "cell_type": "code",
   "execution_count": 14,
   "id": "4ae5cb7a-0ec0-4008-a1f2-b97e02590239",
   "metadata": {},
   "outputs": [
    {
     "name": "stdout",
     "output_type": "stream",
     "text": [
      "2018 Mahindra XUV 500 started.\n",
      "2018 Mahindra XUV 500 running.\n",
      "2018 Mahindra XUV 500 stopped.\n"
     ]
    }
   ],
   "source": [
    "# 2. program for a CAR Class\n",
    "class Car:\n",
    "    def __init__(self, make, model, year):\n",
    "        self.make = make\n",
    "        self.model = model\n",
    "        self.year = year\n",
    "\n",
    "    def start(self):\n",
    "        print(f\"{self.year} {self.make} {self.model} started.\")\n",
    "\n",
    "    def running(self):\n",
    "        print(f\"{self.year} {self.make} {self.model} running.\")\n",
    "\n",
    "    def stop(self):\n",
    "        print(f\"{self.year} {self.make} {self.model} stopped.\")\n",
    "\n",
    "my_car = Car('Mahindra','XUV 500',2018)\n",
    "\n",
    "my_car.start()\n",
    "my_car.running()\n",
    "my_car.stop()"
   ]
  },
  {
   "cell_type": "code",
   "execution_count": 3,
   "id": "0d979f60-d5bb-4f1b-b4c5-9cbf70005c77",
   "metadata": {},
   "outputs": [
    {
     "name": "stdout",
     "output_type": "stream",
     "text": [
      "2020 Toyota Corolla started.\n",
      "Refueling 2020 Toyota Corolla with 50 liters of fuel.\n",
      "2020 Toyota Corolla stopped.\n",
      "2022 Tesla Model S started.\n",
      "Charging 2022 Tesla Model S with 100 kWh battery.\n",
      "2022 Tesla Model S stopped.\n",
      "2019 Volvo FH16 started.\n",
      "Loading 25 tons onto 2019 Volvo FH16.\n",
      "2019 Volvo FH16 stopped.\n",
      "2023 Caterpillar CT660 started.\n",
      "2023 Caterpillar CT660 is being used on a construction site.\n",
      "Loading 35 tons onto 2023 Caterpillar CT660.\n",
      "2023 Caterpillar CT660 stopped.\n"
     ]
    }
   ],
   "source": [
    "# Base Vehicle class\n",
    "class Vehicle:\n",
    "    def __init__(self, make, model, year):\n",
    "        self.make = make\n",
    "        self.model = model\n",
    "        self.year = year\n",
    "\n",
    "    def start(self):\n",
    "        print(f\"{self.year} {self.make} {self.model} started.\")\n",
    "\n",
    "    def stop(self):\n",
    "        print(f\"{self.year} {self.make} {self.model} stopped.\")\n",
    "\n",
    "# GasVehicle class (inherits from Vehicle)\n",
    "class GasVehicle(Vehicle):\n",
    "    def __init__(self, make, model, year, fuel_tank_capacity):\n",
    "        super().__init__(make, model, year)\n",
    "        self.fuel_tank_capacity = fuel_tank_capacity\n",
    "\n",
    "    def refuel(self):\n",
    "        print(f\"Refueling {self.year} {self.make} {self.model} with {self.fuel_tank_capacity} liters of fuel.\")\n",
    "\n",
    "# ElectricVehicle class (inherits from Vehicle)\n",
    "class ElectricVehicle(Vehicle):\n",
    "    def __init__(self, make, model, year, battery_capacity):\n",
    "        super().__init__(make, model, year)\n",
    "        self.battery_capacity = battery_capacity\n",
    "\n",
    "    def charge(self):\n",
    "        print(f\"Charging {self.year} {self.make} {self.model} with {self.battery_capacity} kWh battery.\")\n",
    "\n",
    "# HeavyVehicle class (inherits from Vehicle)\n",
    "class HeavyVehicle(Vehicle):\n",
    "    def __init__(self, make, model, year, load_capacity):\n",
    "        super().__init__(make, model, year)\n",
    "        self.load_capacity = load_capacity\n",
    "\n",
    "    def load(self, weight):\n",
    "        if weight <= self.load_capacity:\n",
    "            print(f\"Loading {weight} tons onto {self.year} {self.make} {self.model}.\")\n",
    "        else:\n",
    "            print(f\"Cannot load {weight} tons. Exceeds capacity of {self.load_capacity} tons.\")\n",
    "\n",
    "# ConstructionTruck class (inherits from HeavyVehicle)\n",
    "class ConstructionTruck(HeavyVehicle):\n",
    "    def operate(self):\n",
    "        print(f\"{self.year} {self.make} {self.model} is being used on a construction site.\")\n",
    "\n",
    "# Creating different types of vehicles\n",
    "gas_car = GasVehicle('Toyota', 'Corolla', 2020, 50)\n",
    "electric_car = ElectricVehicle('Tesla', 'Model S', 2022, 100)\n",
    "heavy_truck = HeavyVehicle('Volvo', 'FH16', 2019, 30)\n",
    "construction_truck = ConstructionTruck('Caterpillar', 'CT660', 2023, 40)\n",
    "\n",
    "# Using the methods of each vehicle class\n",
    "gas_car.start()\n",
    "gas_car.refuel()\n",
    "gas_car.stop()\n",
    "\n",
    "electric_car.start()\n",
    "electric_car.charge()\n",
    "electric_car.stop()\n",
    "\n",
    "heavy_truck.start()\n",
    "heavy_truck.load(25)\n",
    "heavy_truck.stop()\n",
    "\n",
    "construction_truck.start()\n",
    "construction_truck.operate()\n",
    "construction_truck.load(35)\n",
    "construction_truck.stop()"
   ]
  },
  {
   "cell_type": "markdown",
   "id": "7d5b0d13-4d63-4ddd-8942-bfd0c3383ccb",
   "metadata": {},
   "source": [
    "## Inheritance"
   ]
  },
  {
   "cell_type": "code",
   "execution_count": 1,
   "id": "0ad02ffe-dc36-47c5-b321-551def44389e",
   "metadata": {},
   "outputs": [
    {
     "name": "stdout",
     "output_type": "stream",
     "text": [
      "Lion roaring\n",
      "Animal Speaking\n"
     ]
    }
   ],
   "source": [
    "# Single Inheritance\n",
    "\n",
    "class Animal:\n",
    "    def speak(self):\n",
    "        print(\"Animal Speaking\")\n",
    "\n",
    "#child class Lion inherits the base class Animal\n",
    "class Lion(Animal):\n",
    "    def roar(self):\n",
    "        print(\"Lion roaring\")\n",
    "\n",
    "d = Lion()\n",
    "d.roar()\n",
    "d.speak()"
   ]
  },
  {
   "cell_type": "code",
   "execution_count": 3,
   "id": "682bfa6a-8639-4bdf-8709-fa9b68938f8e",
   "metadata": {},
   "outputs": [
    {
     "name": "stdout",
     "output_type": "stream",
     "text": [
      "6\n",
      "8\n",
      "0.5\n"
     ]
    }
   ],
   "source": [
    "# Multiple Inheritance\n",
    "\n",
    "class Calculation1:\n",
    "    def Addition(self,x,y):\n",
    "        return x+y;\n",
    "\n",
    "class Calculation2:\n",
    "    def Multiplication(self,a,b):\n",
    "        return a*b;\n",
    "\n",
    "class Derived(Calculation1,Calculation2):\n",
    "    def Division(self,a,b):\n",
    "        return a/b;\n",
    "\n",
    "d = Derived()\n",
    "print(d.Addition(2,4))\n",
    "print(d.Multiplication(2,4))\n",
    "print(d.Division(2,4))"
   ]
  },
  {
   "cell_type": "code",
   "execution_count": 5,
   "id": "3969821e-533b-4f5b-ad6e-9920e16abc9f",
   "metadata": {},
   "outputs": [
    {
     "name": "stdout",
     "output_type": "stream",
     "text": [
      "Lion roaring\n",
      "Animal Speaking\n",
      "Eating meat...\n"
     ]
    }
   ],
   "source": [
    "# Multilevel Inheritance\n",
    "\n",
    "class Animal:\n",
    "    def speak(self):\n",
    "        print(\"Animal Speaking\")\n",
    "\n",
    "#The child class Lion inherits the base class Animal\n",
    "class Lion(Animal):\n",
    "    def roar(self):\n",
    "        print(\"Lion roaring\")\n",
    "\n",
    "#The child class BabyLion inherits another child class Lion\n",
    "class BabyLion(Lion):\n",
    "    def eat(self):\n",
    "        print(\"Eating meat...\")\n",
    "\n",
    "d = BabyLion()\n",
    "d.roar()\n",
    "d.speak()\n",
    "d.eat()"
   ]
  },
  {
   "cell_type": "code",
   "execution_count": null,
   "id": "cc2a4558-467f-41d6-9c5e-3dc7ecfddbbb",
   "metadata": {},
   "outputs": [],
   "source": []
  },
  {
   "cell_type": "code",
   "execution_count": 6,
   "id": "fd4587ee-afd3-4791-a130-207fb25192a6",
   "metadata": {},
   "outputs": [
    {
     "name": "stdout",
     "output_type": "stream",
     "text": [
      "This message is from Employee Class\n",
      "This Company class is inherited from Employee\n"
     ]
    }
   ],
   "source": [
    "# Method Overriding\n",
    "\n",
    "class Employee:\n",
    "    def message(self):\n",
    "        print('This message is from Employee Class')\n",
    "\n",
    "class Company(Employee):\n",
    "    def message(self):\n",
    "        print('This Company class is inherited from Employee')\n",
    "\n",
    "emp = Employee()\n",
    "emp.message()\n",
    "comp = Company()\n",
    "comp.message()"
   ]
  },
  {
   "cell_type": "code",
   "execution_count": null,
   "id": "c14a6785-52f9-42d9-80c2-9ba9d04a7558",
   "metadata": {},
   "outputs": [],
   "source": []
  }
 ],
 "metadata": {
  "kernelspec": {
   "display_name": "Python 3 (ipykernel)",
   "language": "python",
   "name": "python3"
  },
  "language_info": {
   "codemirror_mode": {
    "name": "ipython",
    "version": 3
   },
   "file_extension": ".py",
   "mimetype": "text/x-python",
   "name": "python",
   "nbconvert_exporter": "python",
   "pygments_lexer": "ipython3",
   "version": "3.11.1"
  }
 },
 "nbformat": 4,
 "nbformat_minor": 5
}
