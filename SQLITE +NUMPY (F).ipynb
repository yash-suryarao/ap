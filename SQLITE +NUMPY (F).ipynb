{
 "cells": [
  {
   "cell_type": "markdown",
   "id": "e164cb5d-9113-439a-8219-155d352ac7a2",
   "metadata": {},
   "source": [
    "### SQLITE"
   ]
  },
  {
   "cell_type": "code",
   "execution_count": 1,
   "id": "2311f27d-5adc-4840-8f69-6a2c5ca89e7b",
   "metadata": {},
   "outputs": [
    {
     "name": "stdout",
     "output_type": "stream",
     "text": [
      "(1, 'Alice', 'New York', 'Manager', 60000.0)\n",
      "(2, 'Bob', 'California', 'Developer', 55000.0)\n",
      "(4, 'Daisy', 'Nevada', 'Consultant', 52000.0)\n",
      "(5, 'Eve', 'Florida', 'Engineer', 75000.0)\n"
     ]
    }
   ],
   "source": [
    "# Create a table employee with attributes eid, name, addr, desig and salary. Ins\n",
    "# details of 5 employees and fetch all the employees whose salary is greater tha\n",
    "import sqlite3\n",
    "conn = sqlite3.connect('example.db')\n",
    "cursor = conn.cursor()\n",
    "# Create table\n",
    "cursor.execute('''CREATE TABLE IF NOT EXISTS employee\n",
    " (eid INTEGER, name TEXT, addr TEXT, desig TEXT, salary REAL)''')\n",
    "# Insert employee details\n",
    "employees = [\n",
    " (1, 'Alice', 'New York', 'Manager', 60000),\n",
    " (2, 'Bob', 'California', 'Developer', 55000),\n",
    " (3, 'Charlie', 'Texas', 'Analyst', 48000),\n",
    " (4, 'Daisy', 'Nevada', 'Consultant', 52000),\n",
    " (5, 'Eve', 'Florida', 'Engineer', 75000),\n",
    "]\n",
    "cursor.executemany(\"INSERT INTO employee VALUES (?, ?, ?, ?, ?)\", employees)\n",
    "conn.commit()\n",
    "# Fetch employees with salary > 50000\n",
    "cursor.execute(\"SELECT * FROM employee WHERE salary > 50000\")\n",
    "high_salary_employees = cursor.fetchall()\n",
    "for emp in high_salary_employees:\n",
    " print(emp)\n",
    "conn.close()"
   ]
  },
  {
   "cell_type": "code",
   "execution_count": 2,
   "id": "2208b6f2-885e-4229-955e-66e7978150e2",
   "metadata": {},
   "outputs": [
    {
     "name": "stdout",
     "output_type": "stream",
     "text": [
      "('Alice', 'Manager')\n",
      "('Bob', 'Developer')\n",
      "('Charlie', 'Analyst')\n",
      "('Daisy', 'Consultant')\n",
      "('Eve', 'Engineer')\n"
     ]
    }
   ],
   "source": [
    "# 3. Consider the employee table and fetch employee name and designation.\n",
    "conn = sqlite3.connect('example.db')\n",
    "cursor = conn.cursor()\n",
    "cursor.execute(\"SELECT name, desig FROM employee\")\n",
    "rows = cursor.fetchall()\n",
    "for row in rows:\n",
    " print(row)\n",
    "conn.close()\n"
   ]
  },
  {
   "cell_type": "code",
   "execution_count": null,
   "id": "445b4e6e-0247-4dfa-81f8-52231a67b9d8",
   "metadata": {},
   "outputs": [],
   "source": [
    "# 1. Write a Python program to delete a specific row from a given SQLite table.\n",
    "\n",
    "import sqlite3\n",
    "\n",
    "def delete_row(db_name, table_name, column_name, value):\n",
    "    valid_tables = ['employees']  # Valid table names (updated to 'employees')\n",
    "    valid_columns = ['emp_no']  # Valid column names (updated to 'emp_no')\n",
    "\n",
    "    # Check if the table and column are valid\n",
    "    if table_name not in valid_tables:\n",
    "        print(f\"Error: Invalid table name '{table_name}'.\")\n",
    "        return\n",
    "    if column_name not in valid_columns:\n",
    "        print(f\"Error: Invalid column name '{column_name}'.\")\n",
    "        return\n",
    "\n",
    "    try:\n",
    "        # Open SQLite connection with a timeout to retry if the database is locked\n",
    "        conn = sqlite3.connect(db_name, timeout=10)  # Timeout set to 10 seconds\n",
    "        cursor = conn.cursor()\n",
    "\n",
    "        # Create the DELETE SQL query using parameterized values\n",
    "        query = f\"DELETE FROM {table_name} WHERE {column_name} = ?\"\n",
    "        cursor.execute(query, (value,))  # Parameterized query to prevent SQL injection\n",
    "        \n",
    "        # Commit the changes\n",
    "        conn.commit()\n",
    "\n",
    "        # Check if the row was deleted\n",
    "        if cursor.rowcount > 0:\n",
    "            print(f\"Row(s) deleted where {column_name} = {value}.\")\n",
    "        else:\n",
    "            print(f\"No row found with {column_name} = {value}.\")\n",
    "\n",
    "    except sqlite3.Error as e:\n",
    "        print(f\"An error occurred: {e}\")\n",
    "    finally:\n",
    "        cursor.close()\n",
    "        conn.close()\n",
    "\n",
    "# Example usage\n",
    "if __name__ == \"__main__\":\n",
    "    # Update the following to reflect the new data\n",
    "    db_name = 'employees_db-full-1.0.6.db'  # SQLite database name\n",
    "    table_name = 'employees'  # Table name\n",
    "    column_name = 'emp_no'  # Column name to filter by (employee number)\n",
    "    value = 499999  # Value to match (employee number)\n",
    "\n",
    "    # Call the function to delete the row\n",
    "    delete_row(db_name, table_name, column_name, value)\n"
   ]
  },
  {
   "cell_type": "code",
   "execution_count": null,
   "id": "781ef808-e5a7-473f-85fa-1667f42a9429",
   "metadata": {},
   "outputs": [],
   "source": [
    "# 3. Consider the employee table and fetch employee name and hire date.\n",
    "\n",
    "conn = sqlite3.connect('employees_db-full-1.0.6.db')\n",
    "cursor = conn.cursor()\n",
    "\n",
    "# Query to fetch employee name and designation\n",
    "query = \"SELECT first_name, hire_date FROM employees\"\n",
    "\n",
    "# Execute the query\n",
    "cursor.execute(query)\n",
    "\n",
    "# Fetch all the results\n",
    "employees = cursor.fetchall()\n",
    "\n",
    "# Print the results\n",
    "for emp in employees:\n",
    "    print(f\"Employee Name: {emp[0]}, Hire Date: {emp[1]}\")\n",
    "\n",
    "# Close the connection\n",
    "conn.close()"
   ]
  },
  {
   "cell_type": "code",
   "execution_count": null,
   "id": "0ee59380-f69c-43c8-992f-1e4715cc6c0c",
   "metadata": {},
   "outputs": [],
   "source": [
    "''' 4. Create a table employee with attributes eid, name, addr, desig and salary. Insert\n",
    "details of 5 employees and fetch all the employees whose salary is greater than 50000.'''\n",
    "\n",
    "import sqlite3\n",
    "\n",
    "conn = sqlite3.connect('employee.db')  # Create a new database file 'employee.db'\n",
    "cursor = conn.cursor()\n",
    "\n",
    "create_table_query = \"\"\"\n",
    "CREATE TABLE IF NOT EXISTS employee (\n",
    "    eid INTEGER PRIMARY KEY,\n",
    "    name TEXT NOT NULL,\n",
    "    addr TEXT,\n",
    "    desig TEXT,\n",
    "    salary REAL\n",
    ");\n",
    "\"\"\"\n",
    "cursor.execute(create_table_query)\n",
    "\n",
    "\n",
    "insert_employees_query = \"\"\"\n",
    "INSERT INTO employee (eid, name, addr, desig, salary)\n",
    "VALUES\n",
    "(1, 'John Doe', '123 Elm St', 'Software Engineer', 60000),\n",
    "(2, 'Jane Smith', '456 Oak Ave', 'Project Manager', 70000),\n",
    "(3, 'Alice Johnson', '789 Pine Rd', 'Data Analyst', 45000),\n",
    "(4, 'Bob Brown', '101 Maple Dr', 'HR Specialist', 55000),\n",
    "(5, 'Charlie Davis', '202 Birch Blvd', 'Senior Developer', 80000);\n",
    "\"\"\"\n",
    "\n",
    "cursor.execute(\"SELECT COUNT(*) FROM employee\")\n",
    "if cursor.fetchone()[0] == 0:  # If no records are present\n",
    "    cursor.executescript(insert_employees_query)\n",
    "\n",
    "\n",
    "fetch_query = \"SELECT * FROM employee WHERE salary > 50000\"\n",
    "cursor.execute(fetch_query)\n",
    "\n",
    "employees = cursor.fetchall()\n",
    "for emp in employees:\n",
    "    print(f\"EID: {emp[0]}, Name: {emp[1]}, Address: {emp[2]}, Designation: {emp[3]}, Salary: {emp[4]}\")\n",
    "\n",
    "conn.commit()  # Commit any changes (not needed for SELECT but good practice)\n",
    "conn.close()\n"
   ]
  },
  {
   "cell_type": "markdown",
   "id": "3018f705-000d-4ec2-97fb-ee5d034bef3d",
   "metadata": {},
   "source": [
    "### Numpy"
   ]
  },
  {
   "cell_type": "code",
   "execution_count": 1,
   "id": "05d6bc60-e53e-438b-afba-65da4702085b",
   "metadata": {},
   "outputs": [
    {
     "name": "stdout",
     "output_type": "stream",
     "text": [
      "[2.5 3.5 4.5]\n"
     ]
    }
   ],
   "source": [
    "# 1. Calculate average values of two given arrays.\n",
    "\n",
    "import numpy as np\n",
    "array1 = np.array([1, 2, 3])\n",
    "array2 = np.array([4, 5, 6])\n",
    "average = (array1 + array2) / 2\n",
    "print(average)\n"
   ]
  },
  {
   "cell_type": "code",
   "execution_count": null,
   "id": "08262ddc-cb73-4e5a-960f-575b87668d3f",
   "metadata": {},
   "outputs": [],
   "source": [
    "# 1. Calculate average values of two given arrays.\n",
    "import numpy as np\n",
    "\n",
    "arr1 = np.array([10, 20, 30, 40, 50])\n",
    "arr2 = np.array([5, 15, 25, 35, 45])\n",
    "\n",
    "# Calculate the average of each array\n",
    "avg_arr1 = np.mean(arr1)\n",
    "avg_arr2 = np.mean(arr2)\n",
    "\n",
    "# Print the average values\n",
    "print(f\"Average of arr1: {avg_arr1}\")\n",
    "print(f\"Average of arr2: {avg_arr2}\")\n",
    "\n",
    "# Optionally, calculate the overall average of both arrays combined\n",
    "combined_avg = np.mean(np.concatenate((arr1, arr2)))\n",
    "print(f\"Average of both arrays combined: {combined_avg}\")"
   ]
  },
  {
   "cell_type": "code",
   "execution_count": 3,
   "id": "8162506f-0100-4583-a9e1-c3a019539cc9",
   "metadata": {},
   "outputs": [
    {
     "name": "stdout",
     "output_type": "stream",
     "text": [
      "Is array identical:  False\n"
     ]
    }
   ],
   "source": [
    "# 2. Compare two arrays.\n",
    "import numpy as np\n",
    "\n",
    "# Define two sample arrays\n",
    "arr1 = np.array([10, 20, 30, 40, 50])\n",
    "arr2 = np.array([10, 25, 30, 40, 50])\n",
    "\n",
    "element_comparison = []\n",
    "for i in range(len(arr1)):\n",
    "    element_comparison.append(arr1[i] == arr2[i])\n",
    "    \n",
    "arr_identical = True\n",
    "if len(arr1) != len(arr2):\n",
    "    arr_identical = False\n",
    "else:\n",
    "    for i in range(len(arr1)):\n",
    "        if arr1[i] != arr2[i]:\n",
    "            arr_identical = False\n",
    "            break\n",
    "\n",
    "print(\"Is array identical: \", arr_identical)"
   ]
  },
  {
   "cell_type": "code",
   "execution_count": 4,
   "id": "a106bd18-9584-4e26-987d-af684d2ab7a9",
   "metadata": {},
   "outputs": [
    {
     "name": "stdout",
     "output_type": "stream",
     "text": [
      "Reversed array: [50 40 30 20 10]\n"
     ]
    }
   ],
   "source": [
    "# 3. Reverse an array.\n",
    "\n",
    "array = np.array([10, 20, 30, 40, 50])\n",
    "\n",
    "reversed_array = array[::-1]\n",
    "print(\"Reversed array:\", reversed_array)\n"
   ]
  },
  {
   "cell_type": "code",
   "execution_count": 6,
   "id": "7b2bff82-32d0-420b-8227-a9994aed4df9",
   "metadata": {},
   "outputs": [
    {
     "name": "stdout",
     "output_type": "stream",
     "text": [
      "Original matrix:\n",
      "[[34  1 23]\n",
      " [ 4  3 15]\n",
      " [ 5 12 19]]\n",
      "\n",
      "Sorted matrix:\n",
      "[[ 1  3  4]\n",
      " [ 5 12 15]\n",
      " [19 23 34]]\n"
     ]
    }
   ],
   "source": [
    "# 4. Sort the values in a matrix.\n",
    "\n",
    "matrix = np.array([[34, 1, 23],\n",
    "                   [4, 3, 15],\n",
    "                   [5, 12, 19]])\n",
    "\n",
    "print(\"Original matrix:\")\n",
    "print(matrix)\n",
    "\n",
    "sorted_matrix = np.sort(matrix, axis=None).reshape(matrix.shape)\n",
    "\n",
    "print(\"\\nSorted matrix:\")\n",
    "print(sorted_matrix)\n",
    "\n"
   ]
  }
 ],
 "metadata": {
  "kernelspec": {
   "display_name": "Python 3 (ipykernel)",
   "language": "python",
   "name": "python3"
  },
  "language_info": {
   "codemirror_mode": {
    "name": "ipython",
    "version": 3
   },
   "file_extension": ".py",
   "mimetype": "text/x-python",
   "name": "python",
   "nbconvert_exporter": "python",
   "pygments_lexer": "ipython3",
   "version": "3.11.1"
  }
 },
 "nbformat": 4,
 "nbformat_minor": 5
}
